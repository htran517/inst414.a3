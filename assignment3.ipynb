{
 "cells": [
  {
   "cell_type": "code",
   "execution_count": 1,
   "metadata": {},
   "outputs": [],
   "source": [
    "import pandas as pd"
   ]
  },
  {
   "cell_type": "code",
   "execution_count": 2,
   "metadata": {},
   "outputs": [
    {
     "data": {
      "text/html": [
       "<div>\n",
       "<style scoped>\n",
       "    .dataframe tbody tr th:only-of-type {\n",
       "        vertical-align: middle;\n",
       "    }\n",
       "\n",
       "    .dataframe tbody tr th {\n",
       "        vertical-align: top;\n",
       "    }\n",
       "\n",
       "    .dataframe thead th {\n",
       "        text-align: right;\n",
       "    }\n",
       "</style>\n",
       "<table border=\"1\" class=\"dataframe\">\n",
       "  <thead>\n",
       "    <tr style=\"text-align: right;\">\n",
       "      <th></th>\n",
       "      <th>Name</th>\n",
       "      <th>HP</th>\n",
       "      <th>Attack</th>\n",
       "      <th>Defense</th>\n",
       "      <th>Sp.Atk</th>\n",
       "      <th>Sp.Def</th>\n",
       "      <th>Speed</th>\n",
       "    </tr>\n",
       "  </thead>\n",
       "  <tbody>\n",
       "    <tr>\n",
       "      <th>0</th>\n",
       "      <td>Bulbasaur</td>\n",
       "      <td>45</td>\n",
       "      <td>49</td>\n",
       "      <td>49</td>\n",
       "      <td>65</td>\n",
       "      <td>65</td>\n",
       "      <td>45</td>\n",
       "    </tr>\n",
       "    <tr>\n",
       "      <th>1</th>\n",
       "      <td>Ivysaur</td>\n",
       "      <td>60</td>\n",
       "      <td>62</td>\n",
       "      <td>63</td>\n",
       "      <td>80</td>\n",
       "      <td>80</td>\n",
       "      <td>60</td>\n",
       "    </tr>\n",
       "    <tr>\n",
       "      <th>2</th>\n",
       "      <td>Venusaur</td>\n",
       "      <td>80</td>\n",
       "      <td>82</td>\n",
       "      <td>83</td>\n",
       "      <td>100</td>\n",
       "      <td>100</td>\n",
       "      <td>80</td>\n",
       "    </tr>\n",
       "    <tr>\n",
       "      <th>3</th>\n",
       "      <td>Charmander</td>\n",
       "      <td>39</td>\n",
       "      <td>52</td>\n",
       "      <td>43</td>\n",
       "      <td>60</td>\n",
       "      <td>50</td>\n",
       "      <td>65</td>\n",
       "    </tr>\n",
       "    <tr>\n",
       "      <th>4</th>\n",
       "      <td>Charmeleon</td>\n",
       "      <td>58</td>\n",
       "      <td>64</td>\n",
       "      <td>58</td>\n",
       "      <td>80</td>\n",
       "      <td>65</td>\n",
       "      <td>80</td>\n",
       "    </tr>\n",
       "    <tr>\n",
       "      <th>...</th>\n",
       "      <td>...</td>\n",
       "      <td>...</td>\n",
       "      <td>...</td>\n",
       "      <td>...</td>\n",
       "      <td>...</td>\n",
       "      <td>...</td>\n",
       "      <td>...</td>\n",
       "    </tr>\n",
       "    <tr>\n",
       "      <th>977</th>\n",
       "      <td>Chi-Yu</td>\n",
       "      <td>55</td>\n",
       "      <td>80</td>\n",
       "      <td>80</td>\n",
       "      <td>135</td>\n",
       "      <td>120</td>\n",
       "      <td>100</td>\n",
       "    </tr>\n",
       "    <tr>\n",
       "      <th>978</th>\n",
       "      <td>Roaring Moon</td>\n",
       "      <td>105</td>\n",
       "      <td>139</td>\n",
       "      <td>71</td>\n",
       "      <td>55</td>\n",
       "      <td>101</td>\n",
       "      <td>119</td>\n",
       "    </tr>\n",
       "    <tr>\n",
       "      <th>979</th>\n",
       "      <td>Iron Valiant</td>\n",
       "      <td>74</td>\n",
       "      <td>130</td>\n",
       "      <td>90</td>\n",
       "      <td>120</td>\n",
       "      <td>60</td>\n",
       "      <td>116</td>\n",
       "    </tr>\n",
       "    <tr>\n",
       "      <th>980</th>\n",
       "      <td>Koraidon</td>\n",
       "      <td>100</td>\n",
       "      <td>135</td>\n",
       "      <td>115</td>\n",
       "      <td>85</td>\n",
       "      <td>100</td>\n",
       "      <td>135</td>\n",
       "    </tr>\n",
       "    <tr>\n",
       "      <th>981</th>\n",
       "      <td>Miraidon</td>\n",
       "      <td>100</td>\n",
       "      <td>85</td>\n",
       "      <td>100</td>\n",
       "      <td>135</td>\n",
       "      <td>115</td>\n",
       "      <td>135</td>\n",
       "    </tr>\n",
       "  </tbody>\n",
       "</table>\n",
       "<p>982 rows × 7 columns</p>\n",
       "</div>"
      ],
      "text/plain": [
       "             Name   HP  Attack  Defense  Sp.Atk  Sp.Def  Speed\n",
       "0       Bulbasaur   45      49       49      65      65     45\n",
       "1         Ivysaur   60      62       63      80      80     60\n",
       "2        Venusaur   80      82       83     100     100     80\n",
       "3      Charmander   39      52       43      60      50     65\n",
       "4      Charmeleon   58      64       58      80      65     80\n",
       "..            ...  ...     ...      ...     ...     ...    ...\n",
       "977        Chi-Yu   55      80       80     135     120    100\n",
       "978  Roaring Moon  105     139       71      55     101    119\n",
       "979  Iron Valiant   74     130       90     120      60    116\n",
       "980      Koraidon  100     135      115      85     100    135\n",
       "981      Miraidon  100      85      100     135     115    135\n",
       "\n",
       "[982 rows x 7 columns]"
      ]
     },
     "execution_count": 2,
     "metadata": {},
     "output_type": "execute_result"
    }
   ],
   "source": [
    "df = pd.read_csv('Pokedex_Cleaned.csv')\n",
    "for index, row in df.iterrows():\n",
    "    if pd.notnull(row['Variant']):\n",
    "        df.drop(index, inplace=True)\n",
    "        \n",
    "df = df.reset_index()\n",
    "\n",
    "df = df[['Name', 'HP', 'Attack', 'Defense', 'Sp.Atk', 'Sp.Def',\n",
    "         'Speed']]\n",
    "\n",
    "df_stats = df[['HP', 'Attack', 'Defense', 'Sp.Atk', 'Sp.Def',\n",
    "         'Speed']]\n",
    "\n",
    "df"
   ]
  },
  {
   "cell_type": "code",
   "execution_count": 3,
   "metadata": {},
   "outputs": [
    {
     "data": {
      "text/plain": [
       "Name\n",
       "Bulbasaur     1.0\n",
       "Ivysaur       1.0\n",
       "Venusaur      1.0\n",
       "Charmander    1.0\n",
       "Charmeleon    1.0\n",
       "Charizard     1.0\n",
       "Squirtle      1.0\n",
       "Wartortle     1.0\n",
       "Blastoise     1.0\n",
       "Caterpie      1.0\n",
       "Metapod       1.0\n",
       "Butterfree    1.0\n",
       "Weedle        1.0\n",
       "Kakuna        1.0\n",
       "Beedrill      1.0\n",
       "Pidgey        1.0\n",
       "Pidgeotto     1.0\n",
       "Pidgeot       1.0\n",
       "Rattata       1.0\n",
       "Raticate      1.0\n",
       "dtype: float64"
      ]
     },
     "execution_count": 3,
     "metadata": {},
     "output_type": "execute_result"
    }
   ],
   "source": [
    "df_indexed = df.set_index('Name')\n",
    "\n",
    "df_norm = df_indexed.divide(df_indexed.sum(axis = 1), axis = 0)\n",
    "df_norm.head(10)\n",
    "df_norm.sum(axis = 1).head(20)"
   ]
  },
  {
   "cell_type": "code",
   "execution_count": 4,
   "metadata": {},
   "outputs": [],
   "source": [
    "from scipy.sparse import lil_matrix\n",
    "import scipy.spatial.distance"
   ]
  },
  {
   "cell_type": "code",
   "execution_count": 5,
   "metadata": {},
   "outputs": [],
   "source": [
    "def similar(target_mon):\n",
    "    target_mon_stats = df_indexed.loc[target_mon]\n",
    "    distances = scipy.spatial.distance.cdist(df_indexed, [target_mon_stats], metric = \"euclidean\")[:,0]\n",
    "    query_distances = list(zip(df.index, distances))\n",
    "\n",
    "    for similar_mon, similar_stats in sorted(query_distances, key = lambda x: x[1], reverse = False)[:10]:\n",
    "        print(df['Name'].iloc[similar_mon], similar_stats, df_stats.iloc[similar_mon].sum())"
   ]
  },
  {
   "cell_type": "code",
   "execution_count": 6,
   "metadata": {},
   "outputs": [
    {
     "name": "stdout",
     "output_type": "stream",
     "text": [
      "Arceus 0.0 720\n",
      "Xerneas 42.7551166528639 680\n",
      "Yveltal 42.7551166528639 680\n",
      "Solgaleo 47.81213235152768 680\n",
      "Lunala 47.81213235152768 680\n",
      "Mew 48.98979485566356 600\n",
      "Celebi 48.98979485566356 600\n",
      "Jirachi 48.98979485566356 600\n",
      "Manaphy 48.98979485566356 600\n",
      "Victini 48.98979485566356 600\n"
     ]
    }
   ],
   "source": [
    "similar('Arceus')"
   ]
  },
  {
   "cell_type": "code",
   "execution_count": 7,
   "metadata": {},
   "outputs": [
    {
     "name": "stdout",
     "output_type": "stream",
     "text": [
      "Flutter Mane 0.0 570\n",
      "Alakazam 44.15880433163923 500\n",
      "Iron Moth 46.36809247747852 570\n",
      "Jolteon 49.749371855331 525\n",
      "Espeon 49.749371855331 525\n",
      "Chi-Yu 51.96152422706632 570\n",
      "Mismagius 52.67826876426369 495\n",
      "Heliolisk 55.59676249567055 481\n",
      "Volcarona 56.124860801609124 550\n",
      "Cryogonal 56.34713834792323 515\n"
     ]
    }
   ],
   "source": [
    "similar('Flutter Mane')"
   ]
  },
  {
   "cell_type": "code",
   "execution_count": 8,
   "metadata": {},
   "outputs": [
    {
     "name": "stdout",
     "output_type": "stream",
     "text": [
      "Mawile 0.0 380\n",
      "Quilladin 18.138357147217054 405\n",
      "Tyrunt 18.65475810617763 362\n",
      "Sableye 20.0 380\n",
      "Croconaw 20.46948949045872 405\n",
      "Kabuto 23.979157616563597 355\n",
      "Shelgon 24.49489742783178 420\n",
      "Hakamo-o 26.457513110645905 420\n",
      "Charjabug 27.459060435491963 400\n",
      "Pawniard 28.284271247461902 340\n"
     ]
    }
   ],
   "source": [
    "similar('Mawile')"
   ]
  }
 ],
 "metadata": {
  "kernelspec": {
   "display_name": "Python 3",
   "language": "python",
   "name": "python3"
  },
  "language_info": {
   "codemirror_mode": {
    "name": "ipython",
    "version": 3
   },
   "file_extension": ".py",
   "mimetype": "text/x-python",
   "name": "python",
   "nbconvert_exporter": "python",
   "pygments_lexer": "ipython3",
   "version": "3.10.2"
  },
  "orig_nbformat": 4
 },
 "nbformat": 4,
 "nbformat_minor": 2
}
